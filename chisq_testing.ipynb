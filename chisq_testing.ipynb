{
  "nbformat": 4,
  "nbformat_minor": 0,
  "metadata": {
    "colab": {
      "name": "chisq_testing.ipynb",
      "provenance": [],
      "collapsed_sections": []
    },
    "kernelspec": {
      "name": "python3",
      "display_name": "Python 3"
    }
  },
  "cells": [
    {
      "cell_type": "code",
      "metadata": {
        "colab": {
          "base_uri": "https://localhost:8080/"
        },
        "id": "ILgt52P08_SK",
        "outputId": "d43862b5-0740-497d-cebd-5b6788ef1496"
      },
      "source": [
        "pip install pycodestyle pep257 pytest"
      ],
      "execution_count": 1,
      "outputs": [
        {
          "output_type": "stream",
          "text": [
            "Collecting pycodestyle\n",
            "\u001b[?25l  Downloading https://files.pythonhosted.org/packages/10/5b/88879fb861ab79aef45c7e199cae3ef7af487b5603dcb363517a50602dd7/pycodestyle-2.6.0-py2.py3-none-any.whl (41kB)\n",
            "\r\u001b[K     |████████                        | 10kB 14.6MB/s eta 0:00:01\r\u001b[K     |███████████████▉                | 20kB 18.2MB/s eta 0:00:01\r\u001b[K     |███████████████████████▊        | 30kB 11.1MB/s eta 0:00:01\r\u001b[K     |███████████████████████████████▊| 40kB 9.3MB/s eta 0:00:01\r\u001b[K     |████████████████████████████████| 51kB 4.4MB/s \n",
            "\u001b[?25hCollecting pep257\n",
            "  Downloading https://files.pythonhosted.org/packages/ec/31/e432e1aa35f692e3f6865fe07194f32536ec073ec7ad809cd3e7cb1a2b1a/pep257-0.7.0-py2.py3-none-any.whl\n",
            "Requirement already satisfied: pytest in /usr/local/lib/python3.6/dist-packages (3.6.4)\n",
            "Requirement already satisfied: six>=1.10.0 in /usr/local/lib/python3.6/dist-packages (from pytest) (1.15.0)\n",
            "Requirement already satisfied: py>=1.5.0 in /usr/local/lib/python3.6/dist-packages (from pytest) (1.10.0)\n",
            "Requirement already satisfied: pluggy<0.8,>=0.5 in /usr/local/lib/python3.6/dist-packages (from pytest) (0.7.1)\n",
            "Requirement already satisfied: more-itertools>=4.0.0 in /usr/local/lib/python3.6/dist-packages (from pytest) (8.7.0)\n",
            "Requirement already satisfied: atomicwrites>=1.0 in /usr/local/lib/python3.6/dist-packages (from pytest) (1.4.0)\n",
            "Requirement already satisfied: setuptools in /usr/local/lib/python3.6/dist-packages (from pytest) (53.0.0)\n",
            "Requirement already satisfied: attrs>=17.4.0 in /usr/local/lib/python3.6/dist-packages (from pytest) (20.3.0)\n",
            "Installing collected packages: pycodestyle, pep257\n",
            "Successfully installed pep257-0.7.0 pycodestyle-2.6.0\n"
          ],
          "name": "stdout"
        }
      ]
    },
    {
      "cell_type": "code",
      "metadata": {
        "id": "uMeQpyS64x7a"
      },
      "source": [
        "!pycodestyle chisq.py\n",
        "!pep257 chisq.py"
      ],
      "execution_count": 5,
      "outputs": []
    },
    {
      "cell_type": "code",
      "metadata": {
        "id": "njlQddjXD2qB"
      },
      "source": [
        "%%bash\n",
        "pycodestyle chisq.py\n",
        "pep257 chisq.py"
      ],
      "execution_count": 6,
      "outputs": []
    },
    {
      "cell_type": "code",
      "metadata": {
        "id": "y7OVlIaBP4pI",
        "colab": {
          "base_uri": "https://localhost:8080/"
        },
        "outputId": "8afdb0cd-a7d7-4520-f37d-61b3e5ad1dc8"
      },
      "source": [
        "!pytest chisq.py"
      ],
      "execution_count": 7,
      "outputs": [
        {
          "output_type": "stream",
          "text": [
            "\u001b[1m============================= test session starts ==============================\u001b[0m\n",
            "platform linux2 -- Python 2.7.17, pytest-3.6.4, py-1.8.0, pluggy-0.7.1\n",
            "rootdir: /content, inifile:\n",
            "\u001b[1m\rcollecting 0 items                                                             \u001b[0m\u001b[1m\rcollecting 6 items                                                             \u001b[0m\u001b[1m\rcollected 6 items                                                              \u001b[0m\n",
            "\n",
            "chisq.py ......\u001b[36m                                                          [100%]\u001b[0m\n",
            "\n",
            "\u001b[32m\u001b[1m=========================== 6 passed in 0.54 seconds ===========================\u001b[0m\n"
          ],
          "name": "stdout"
        }
      ]
    },
    {
      "cell_type": "code",
      "metadata": {
        "colab": {
          "base_uri": "https://localhost:8080/"
        },
        "id": "RNwcxVXSw6bP",
        "outputId": "2909e878-0afa-45b9-d5fb-53af51b8bb52"
      },
      "source": [
        "import chisq\n",
        "\n",
        "%timeit -n 20 chisq.chisq_1(chisq.sample_x, chisq.sample_y)\n",
        "%timeit -n 20 chisq.chisq_2(chisq.sample_x, chisq.sample_y)\n",
        "%timeit -n 20 chisq.chisq_3(chisq.sample_x, chisq.sample_y)"
      ],
      "execution_count": 8,
      "outputs": [
        {
          "output_type": "stream",
          "text": [
            "20 loops, best of 3: 244 ms per loop\n",
            "20 loops, best of 3: 122 ms per loop\n",
            "20 loops, best of 3: 56.4 ms per loop\n"
          ],
          "name": "stdout"
        }
      ]
    },
    {
      "cell_type": "markdown",
      "metadata": {
        "id": "bu5yFXL_xQK6"
      },
      "source": [
        "From the results of timing of single function, one can see the chisq_1 is the\n",
        "slowest, chisq_2 is the second, and chisq_3 is the fastest. The chisq_1 is\n",
        "expected to be the slowest since it used list and for each step it use list\n",
        "comprehesion if need. However, the chisq_1 is easy to read since for each\n",
        "element required, it has a separate line. The chisq_2, instead, using array as\n",
        "a data structure and by using some default numpy function it saves some time\n",
        "for instance, by using 'return_counts=True' one does not need to compute counts\n",
        "separately. Like chisq_1, it is also easy to read except some results are\n",
        "inside for saving some time. The chisq_3 does not use any functions from other\n",
        "packages it uses all for loop for computing needed results. Among all three\n",
        "functions, it is the hardest to read, since using all for loops people need to\n",
        "check each loop to understand."
      ]
    },
    {
      "cell_type": "code",
      "metadata": {
        "id": "UhQZTe-c-kJE"
      },
      "source": [
        "\"\"\"\n",
        "Chi-Square for two samples.\n",
        "\n",
        "Three functions.\n",
        "\"\"\"\n",
        "\n",
        "\n",
        "import numpy as np\n",
        "import timeit\n",
        "import random\n",
        "from random import randint\n",
        "import time\n",
        "\n",
        "\n",
        "def chisq_1(x, y):\n",
        "    \"\"\"\n",
        "    Calculate a Chi-Square for two samples.\n",
        "\n",
        "    Arguments:\n",
        "    x:  list\n",
        "        sample 1\n",
        "    y:  list\n",
        "        sample 2\n",
        "\n",
        "    Returns\n",
        "    chi_s:  float\n",
        "            value of Chi-Square result\n",
        "    \"\"\"\n",
        "    n, m = len(x), len(y)\n",
        "    z = x + y\n",
        "    u = np.unique(z)\n",
        "    p = [float(z.count(i)) / float(m+n) for i in u]\n",
        "    E_k = [n * j for j in p]\n",
        "    O_k = [x.count(k) for k in u]\n",
        "    chi_s = sum([float((O_k[i] - E_k[i])**2)/float(E_k[i])\n",
        "                 for i in range(len(u))])\n",
        "    return chi_s\n",
        "\n",
        "\n",
        "def chisq_2(x, y):\n",
        "    \"\"\"\n",
        "    Calculate a Chi-Square for two samples.\n",
        "\n",
        "    Keyword arguments:\n",
        "    x -- list sample 1\n",
        "    y -- list sample 2\n",
        "    \"\"\"\n",
        "    n, m = len(x), len(y)\n",
        "    z = np.append(x, y)\n",
        "    u, p = np.unique(z, return_counts=True)\n",
        "    p = np.true_divide(p, (n+m))\n",
        "    E_k = p*n\n",
        "    O_k = [x.count(k) for k in u]\n",
        "    chi_s = np.nansum(np.true_divide(np.square(O_k - E_k), E_k))\n",
        "    return chi_s\n",
        "\n",
        "\n",
        "def chisq_3(x, y):\n",
        "    \"\"\"\n",
        "    Calculate a Chi-Square for two samples.\n",
        "\n",
        "    Keyword arguments:\n",
        "    x -- list sample 1\n",
        "    y -- list sample 2\n",
        "    \"\"\"\n",
        "    n, m = len(x), len(y)\n",
        "    z = x + y\n",
        "    u = [z[0]]\n",
        "    for i in z:\n",
        "        if i not in u:\n",
        "            u += [i]\n",
        "    p = []\n",
        "    for j in u:\n",
        "        count = 0\n",
        "        for k in z:\n",
        "            if j == k:\n",
        "                count += 1\n",
        "        p += [float(count)/float(n+m)]\n",
        "    E_k = []\n",
        "    for freq in p:\n",
        "        E_k += [freq*n]\n",
        "    O_k = []\n",
        "    for r in u:\n",
        "        count = 0\n",
        "        for q in x:\n",
        "            if r == q:\n",
        "                count += 1\n",
        "        O_k += [count]\n",
        "    chi_s = 0\n",
        "    for s in range(len(u)):\n",
        "        chi_s += float((O_k[s]-E_k[s])**2) / float(E_k[s])\n",
        "    return chi_s\n",
        "\n",
        "\n",
        "# Establishing the simulation\n",
        "fixtest_x = [1, 1, 2, 2, 2, 3, 4, 4, 4, 5]\n",
        "fixtest_y = [2, 2, 3, 4, 4, 5, 5, 5]\n",
        "\n",
        "random.seed(10)\n",
        "sample_x = [randint(1, 6) for i in range(100000)]\n",
        "sample_y = [randint(1, 6) for i in range(10000)]\n",
        "\n",
        "coin_x = [randint(0, 1) for i in range(1000)]\n",
        "coin_y = [randint(0, 1) for i in range(100)]\n",
        "\n",
        "\n",
        "%timeit -n 20 chisq_1(sample_x, sample_y)\n",
        "%timeit -n 20 chisq_2(sample_x, sample_y)\n",
        "%timeit -n 20 chisq_3(sample_x, sample_y)\n",
        "\n",
        "\"\"\"\n",
        "From the results of timing of single function, one can see the chisq_1 is the\n",
        "slowest, chisq_2 is the second, and chisq_3 is the fastest. The chisq_1 is\n",
        "expected to be the slowest since it used list and for each step it use list\n",
        "comprehesion if need. However, the chisq_1 is easy to read since for each\n",
        "element required, it has a separate line. The chisq_2, instead, using array as\n",
        "a data structure and by using some default numpy function it saves some time\n",
        "for instance, by using 'return_counts=True' one does not need to compute counts\n",
        "separately. Like chisq_1, it is also easy to read except some results are\n",
        "inside for saving some time. The chisq_3 does not use any functions from other\n",
        "packages it uses all for loop for computing needed results. Among all three\n",
        "functions, it is the hardest to read, since using all for loops people need to\n",
        "check each loop to understand.\n",
        "\"\"\"\n",
        "\n",
        "\n",
        "def test_method_1():\n",
        "    \"\"\"\n",
        "    Test chisq_1.\n",
        "\n",
        "    Testing chisq_1 by using first samples\n",
        "    \"\"\"\n",
        "    assert round(chisq_1(sample_x, sample_y), 5) == 0.36701\n",
        "\n",
        "\n",
        "def test_method_2():\n",
        "    \"\"\"\n",
        "    Test chisq_2.\n",
        "\n",
        "    Testing chisq_2 by using first samples\n",
        "    \"\"\"\n",
        "    assert round(chisq_2(sample_x, sample_y), 5) == 0.36701\n",
        "\n",
        "\n",
        "def test_method_3():\n",
        "    \"\"\"\n",
        "    Test chisq_3.\n",
        "\n",
        "    Testing chisq_3 by using first samples\n",
        "    \"\"\"\n",
        "    assert round(chisq_3(sample_x, sample_y), 5) == 0.36701\n",
        "\n",
        "\n",
        "def test_fixed_1():\n",
        "    \"\"\"\n",
        "    Test chisq_1.\n",
        "\n",
        "    Testing chisq_1 by using first fixed samples\n",
        "    \"\"\"\n",
        "    assert round(chisq_1(fixtest_x, fixtest_y), 5) == 1.43\n",
        "\n",
        "\n",
        "def test_fixed_2():\n",
        "    \"\"\"\n",
        "    Test chisq_2.\n",
        "\n",
        "    Testing chisq_2 by using first fixed samples\n",
        "    \"\"\"\n",
        "    assert round(chisq_2(fixtest_x, fixtest_y), 5) == 1.43\n",
        "\n",
        "\n",
        "def test_fixed_3():\n",
        "    \"\"\"\n",
        "    Test chisq_3.\n",
        "\n",
        "    Testing chisq_3 by using first fixed samples\n",
        "    \"\"\"\n",
        "    assert round(chisq_3(fixtest_x, fixtest_y), 5) == 1.43\n"
      ],
      "execution_count": null,
      "outputs": []
    }
  ]
}