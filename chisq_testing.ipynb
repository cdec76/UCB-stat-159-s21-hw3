{
  "nbformat": 4,
  "nbformat_minor": 0,
  "metadata": {
    "colab": {
      "name": "chisq_testing.ipynb",
      "provenance": [],
      "collapsed_sections": []
    },
    "kernelspec": {
      "name": "python3",
      "display_name": "Python 3"
    }
  },
  "cells": [
    {
      "cell_type": "code",
      "metadata": {
        "colab": {
          "base_uri": "https://localhost:8080/"
        },
        "id": "ILgt52P08_SK",
        "outputId": "aa496f2a-09a5-40cd-acd8-dc658099bbc2"
      },
      "source": [
        "pip install pycodestyle pep257 pytest"
      ],
      "execution_count": 4,
      "outputs": [
        {
          "output_type": "stream",
          "text": [
            "Collecting pycodestyle\n",
            "\u001b[?25l  Downloading https://files.pythonhosted.org/packages/10/5b/88879fb861ab79aef45c7e199cae3ef7af487b5603dcb363517a50602dd7/pycodestyle-2.6.0-py2.py3-none-any.whl (41kB)\n",
            "\r\u001b[K     |████████                        | 10kB 16.1MB/s eta 0:00:01\r\u001b[K     |███████████████▉                | 20kB 13.9MB/s eta 0:00:01\r\u001b[K     |███████████████████████▊        | 30kB 9.5MB/s eta 0:00:01\r\u001b[K     |███████████████████████████████▊| 40kB 8.9MB/s eta 0:00:01\r\u001b[K     |████████████████████████████████| 51kB 4.8MB/s \n",
            "\u001b[?25hCollecting pep257\n",
            "  Downloading https://files.pythonhosted.org/packages/ec/31/e432e1aa35f692e3f6865fe07194f32536ec073ec7ad809cd3e7cb1a2b1a/pep257-0.7.0-py2.py3-none-any.whl\n",
            "Requirement already satisfied: pytest in /usr/local/lib/python3.6/dist-packages (3.6.4)\n",
            "Requirement already satisfied: six>=1.10.0 in /usr/local/lib/python3.6/dist-packages (from pytest) (1.15.0)\n",
            "Requirement already satisfied: setuptools in /usr/local/lib/python3.6/dist-packages (from pytest) (53.0.0)\n",
            "Requirement already satisfied: atomicwrites>=1.0 in /usr/local/lib/python3.6/dist-packages (from pytest) (1.4.0)\n",
            "Requirement already satisfied: more-itertools>=4.0.0 in /usr/local/lib/python3.6/dist-packages (from pytest) (8.7.0)\n",
            "Requirement already satisfied: pluggy<0.8,>=0.5 in /usr/local/lib/python3.6/dist-packages (from pytest) (0.7.1)\n",
            "Requirement already satisfied: py>=1.5.0 in /usr/local/lib/python3.6/dist-packages (from pytest) (1.10.0)\n",
            "Requirement already satisfied: attrs>=17.4.0 in /usr/local/lib/python3.6/dist-packages (from pytest) (20.3.0)\n",
            "Installing collected packages: pycodestyle, pep257\n",
            "Successfully installed pep257-0.7.0 pycodestyle-2.6.0\n"
          ],
          "name": "stdout"
        }
      ]
    },
    {
      "cell_type": "code",
      "metadata": {
        "id": "uMeQpyS64x7a"
      },
      "source": [
        "!pycodestyle chisq.py\n",
        "!pep257 chisq.py"
      ],
      "execution_count": 28,
      "outputs": []
    },
    {
      "cell_type": "code",
      "metadata": {
        "id": "njlQddjXD2qB"
      },
      "source": [
        "%%bash\n",
        "pycodestyle chisq.py\n",
        "pep257 chisq.py"
      ],
      "execution_count": 29,
      "outputs": []
    },
    {
      "cell_type": "code",
      "metadata": {
        "id": "y7OVlIaBP4pI",
        "colab": {
          "base_uri": "https://localhost:8080/"
        },
        "outputId": "2f5f3250-ca41-43fd-c38e-5a860c6e0f90"
      },
      "source": [
        "!pytest chisq.py"
      ],
      "execution_count": 30,
      "outputs": [
        {
          "output_type": "stream",
          "text": [
            "\u001b[1m============================= test session starts ==============================\u001b[0m\n",
            "platform linux2 -- Python 2.7.17, pytest-3.6.4, py-1.8.0, pluggy-0.7.1\n",
            "rootdir: /content, inifile:\n",
            "collected 9 items                                                              \u001b[0m\n",
            "\n",
            "chisq.py .........\u001b[36m                                                       [100%]\u001b[0m\n",
            "\n",
            "\u001b[32m\u001b[1m=========================== 9 passed in 0.52 seconds ===========================\u001b[0m\n"
          ],
          "name": "stdout"
        }
      ]
    },
    {
      "cell_type": "code",
      "metadata": {
        "colab": {
          "base_uri": "https://localhost:8080/"
        },
        "id": "RNwcxVXSw6bP",
        "outputId": "7633de9c-1ae7-4151-898e-c14c13b34faa"
      },
      "source": [
        "import chisq\n",
        "\n",
        "%timeit -n 1000 chisq.chisq_1(chisq.sample_x, chisq.sample_y)\n",
        "%timeit -n 1000 chisq.chisq_2(chisq.sample_x, chisq.sample_y)\n",
        "%timeit -n 1000 chisq.chisq_3(chisq.sample_x, chisq.sample_y)"
      ],
      "execution_count": 27,
      "outputs": [
        {
          "output_type": "stream",
          "text": [
            "1000 loops, best of 3: 234 ms per loop\n",
            "1000 loops, best of 3: 118 ms per loop\n",
            "1000 loops, best of 3: 56 ms per loop\n"
          ],
          "name": "stdout"
        }
      ]
    },
    {
      "cell_type": "markdown",
      "metadata": {
        "id": "bu5yFXL_xQK6"
      },
      "source": [
        "From the results of timing of single function, one can see the chisq_1 is the\n",
        "slowest, chisq_2 is the second, and chisq_3 is the fastest. The chisq_1 is\n",
        "expected to be the slowest since it used list and for each step it use list\n",
        "comprehesion if need. However, the chisq_1 is easy to read since for each\n",
        "element required, it has a separate line. The chisq_2, instead, using array as\n",
        "a data structure and by using some default numpy function it saves some time\n",
        "for instance, by using 'return_counts=True' one does not need to compute counts\n",
        "separately. Like chisq_1, it is also easy to read except some results are\n",
        "inside for saving some time. The chisq_3 does not use any functions from other\n",
        "packages it uses all for loop for computing needed results. Among all three\n",
        "functions, it is the hardest to read, since using all for loops people need to\n",
        "check each loop to understand.\n",
        "\n",
        "Overall the first method takes the most time with twice as much as second method and four time as that of the third. However the first one is the easiest to read while the third one take a while to read."
      ]
    },
    {
      "cell_type": "code",
      "metadata": {
        "id": "UhQZTe-c-kJE",
        "colab": {
          "base_uri": "https://localhost:8080/"
        },
        "outputId": "33f35d30-27d0-44ad-9272-981a0f48dd3c"
      },
      "source": [
        "\"\"\"\n",
        "Chi-Square for two samples.\n",
        "\n",
        "Three functions with different methods.\n",
        "chisq_1 uses list comprehension, chisq_2 uses array, and chisq_3 uses loop.\n",
        "\"\"\"\n",
        "\n",
        "\n",
        "import numpy as np\n",
        "import timeit\n",
        "import random\n",
        "from random import randint\n",
        "import time\n",
        "\n",
        "\n",
        "def chisq_1(x, y):\n",
        "    \"\"\"\n",
        "    Calculate a Chi-Square for two samples.\n",
        "\n",
        "    Arguments:\n",
        "    x:  list\n",
        "        sample 1\n",
        "    y:  list\n",
        "        sample 2\n",
        "\n",
        "    Returns\n",
        "    chi_s:  float\n",
        "            value of Chi-Square result\n",
        "    \"\"\"\n",
        "    n, m = len(x), len(y)\n",
        "    z = x + y\n",
        "    u = np.unique(z)\n",
        "    p = [float(z.count(i)) / float(m+n) for i in u]\n",
        "    E_k = [n * j for j in p]\n",
        "    O_k = [x.count(k) for k in u]\n",
        "    chi_s = sum([float((O_k[i] - E_k[i])**2)/float(E_k[i])\n",
        "                 for i in range(len(u))])\n",
        "    return chi_s\n",
        "\n",
        "\n",
        "def chisq_2(x, y):\n",
        "    \"\"\"\n",
        "    Calculate a Chi-Square for two samples.\n",
        "\n",
        "    Keyword arguments:\n",
        "    x:  list sample 1\n",
        "    y:  list sample 2\n",
        "\n",
        "    Returns\n",
        "    chi_s:  float\n",
        "            value of Chi-Square result\n",
        "    \"\"\"\n",
        "    n, m = len(x), len(y)\n",
        "    z = np.append(x, y)\n",
        "    u, p = np.unique(z, return_counts=True)\n",
        "    p = np.true_divide(p, (n+m))\n",
        "    E_k = p*n\n",
        "    O_k = [x.count(k) for k in u]\n",
        "    chi_s = np.nansum(np.true_divide(np.square(O_k - E_k), E_k))\n",
        "    return chi_s\n",
        "\n",
        "\n",
        "def chisq_3(x, y):\n",
        "    \"\"\"\n",
        "    Calculate a Chi-Square for two samples.\n",
        "\n",
        "    Keyword arguments:\n",
        "    x:  list sample 1\n",
        "    y:  list sample 2\n",
        "\n",
        "    Returns\n",
        "    chi_s:  float\n",
        "            value of Chi-Square result\n",
        "    \"\"\"\n",
        "    n, m = len(x), len(y)\n",
        "    z = x + y\n",
        "    u = [z[0]]\n",
        "    for i in z:\n",
        "        if i not in u:\n",
        "            u += [i]\n",
        "    p = []\n",
        "    for j in u:\n",
        "        count = 0\n",
        "        for k in z:\n",
        "            if j == k:\n",
        "                count += 1\n",
        "        p += [float(count)/float(n+m)]\n",
        "    E_k = []\n",
        "    for freq in p:\n",
        "        E_k += [freq*n]\n",
        "    O_k = []\n",
        "    for r in u:\n",
        "        count = 0\n",
        "        for q in x:\n",
        "            if r == q:\n",
        "                count += 1\n",
        "        O_k += [count]\n",
        "    chi_s = 0\n",
        "    for s in range(len(u)):\n",
        "        chi_s += float((O_k[s]-E_k[s])**2) / float(E_k[s])\n",
        "    return chi_s\n",
        "\n",
        "\n",
        "# Establishing the simulation\n",
        "fixtest_x = [1, 1, 2, 2, 2, 3, 4, 4, 4, 5]\n",
        "fixtest_y = [2, 2, 3, 4, 4, 5, 5, 5]\n",
        "\n",
        "random.seed(10)\n",
        "sample_x = [randint(1, 6) for i in range(100000)]\n",
        "sample_y = [randint(1, 6) for i in range(10000)]\n",
        "\n",
        "coin_x = [randint(0, 1) for i in range(1000)]\n",
        "coin_y = [randint(0, 1) for i in range(100)]\n",
        "\n",
        "simple_x = [1, 1, 1]\n",
        "simple_y = [1, 1, 0]\n",
        "\n",
        "%timeit -n 20 chisq_1(sample_x, sample_y)\n",
        "%timeit -n 20 chisq_2(sample_x, sample_y)\n",
        "%timeit -n 20 chisq_3(sample_x, sample_y)\n",
        "\n",
        "\"\"\"\n",
        "From the results of timing of single function, one can see the chisq_1 is the\n",
        "slowest, chisq_2 is the second, and chisq_3 is the fastest. The chisq_1 is\n",
        "expected to be the slowest since it used list and for each step it use list\n",
        "comprehesion if need. However, the chisq_1 is easy to read since for each\n",
        "element required, it has a separate line. The chisq_2, instead, using array as\n",
        "a data structure and by using some default numpy function it saves some time\n",
        "for instance, by using 'return_counts=True' one does not need to compute counts\n",
        "separately. Like chisq_1, it is also easy to read except some results are\n",
        "inside for saving some time. The chisq_3 does not use any functions from other\n",
        "packages it uses all for loop for computing needed results. Among all three\n",
        "functions, it is the hardest to read, since using all for loops people need to\n",
        "check each loop to understand.\n",
        "Overall the first method takes the most time with twice as much as second\n",
        "method and four time as that of the third. However the first one is the easiest\n",
        "to read while the third one take a while to read.\n",
        "\"\"\"\n",
        "\n",
        "\n",
        "def test_simple_1():\n",
        "    \"\"\"\n",
        "    Test chisq_1 with a simple test.\n",
        "\n",
        "    Testing chisq_1 by using x = [1, 1, 1], y = [1, 0, 0]\n",
        "    \"\"\"\n",
        "    assert chisq_1(simple_x, simple_y) == 0.6\n",
        "\n",
        "\n",
        "def test_simple_2():\n",
        "    \"\"\"\n",
        "    Test chisq_2 with a simple test.\n",
        "\n",
        "    Testing chisq_2 by using x = [1, 1, 1], y = [1, 0, 0]\n",
        "    \"\"\"\n",
        "    assert chisq_2(simple_x, simple_y) == 0.6\n",
        "\n",
        "\n",
        "def test_simple_3():\n",
        "    \"\"\"\n",
        "    Test chisq_3 with a simple test.\n",
        "\n",
        "    Testing chisq_3 by using x = [1, 1, 1], y = [1, 0, 0]\n",
        "    \"\"\"\n",
        "    assert chisq_3(simple_x, simple_y) == 0.6\n",
        "\n",
        "\n",
        "def test_method_1():\n",
        "    \"\"\"\n",
        "    Test chisq_1.\n",
        "\n",
        "    Testing chisq_1 by using random samples but fixed seed\n",
        "    \"\"\"\n",
        "    assert round(chisq_1(sample_x, sample_y), 5) == 0.36701\n",
        "\n",
        "\n",
        "def test_method_2():\n",
        "    \"\"\"\n",
        "    Test chisq_2.\n",
        "\n",
        "    Testing chisq_2 by using random samples but fixed seed\n",
        "    \"\"\"\n",
        "    assert round(chisq_2(sample_x, sample_y), 5) == 0.36701\n",
        "\n",
        "\n",
        "def test_method_3():\n",
        "    \"\"\"\n",
        "    Test chisq_3.\n",
        "\n",
        "    Testing chisq_3 by using random samples but fixed seed\n",
        "    \"\"\"\n",
        "    assert round(chisq_3(sample_x, sample_y), 5) == 0.36701\n",
        "\n",
        "\n",
        "def test_fixed_1():\n",
        "    \"\"\"\n",
        "    Test chisq_1.\n",
        "\n",
        "    Testing chisq_1 by using fixed samples\n",
        "    \"\"\"\n",
        "    assert round(chisq_1(fixtest_x, fixtest_y), 5) == 1.43\n",
        "\n",
        "\n",
        "def test_fixed_2():\n",
        "    \"\"\"\n",
        "    Test chisq_2.\n",
        "\n",
        "    Testing chisq_2 by using fixed samples\n",
        "    \"\"\"\n",
        "    assert round(chisq_2(fixtest_x, fixtest_y), 5) == 1.43\n",
        "\n",
        "\n",
        "def test_fixed_3():\n",
        "    \"\"\"\n",
        "    Test chisq_3.\n",
        "\n",
        "    Testing chisq_3 by using fixed samples\n",
        "    \"\"\"\n",
        "    assert round(chisq_3(fixtest_x, fixtest_y), 5) == 1.43\n"
      ],
      "execution_count": 1,
      "outputs": [
        {
          "output_type": "stream",
          "text": [
            "20 loops, best of 3: 234 ms per loop\n",
            "20 loops, best of 3: 118 ms per loop\n",
            "20 loops, best of 3: 55.9 ms per loop\n"
          ],
          "name": "stdout"
        }
      ]
    }
  ]
}